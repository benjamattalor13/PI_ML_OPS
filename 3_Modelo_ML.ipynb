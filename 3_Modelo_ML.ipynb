{
  "nbformat": 4,
  "nbformat_minor": 0,
  "metadata": {
    "colab": {
      "provenance": []
    },
    "kernelspec": {
      "name": "python3",
      "display_name": "Python 3"
    },
    "language_info": {
      "name": "python"
    }
  },
  "cells": [
    {
      "cell_type": "code",
      "execution_count": 1,
      "metadata": {
        "id": "dUmAl4J2Pva6"
      },
      "outputs": [],
      "source": [
        "import pandas as pd\n",
        "import os\n",
        "from sklearn.feature_extraction.text import CountVectorizer\n",
        "from sklearn.metrics.pairwise import cosine_similarity\n",
        "import numpy as np\n",
        "import ast"
      ]
    },
    {
      "cell_type": "code",
      "source": [
        "output_Steam_Games = os.path.join('Datasets-Limpios', 'output_games.parquet')\n",
        "games = pd.read_parquet(output_Steam_Games)\n",
        "modelo_df = games.loc[:, [\"genres\", \"item_id\",'tags']]"
      ],
      "metadata": {
        "id": "wl9cXjaDXmaR"
      },
      "execution_count": 4,
      "outputs": []
    },
    {
      "cell_type": "code",
      "source": [
        "genres_variable = modelo_df['genres'].copy()\n",
        "genres_variable = genres_variable.apply(lambda x: str(x).replace('[', '').replace(']', ''))\n",
        "genres_variable = genres_variable.apply(lambda x: ', '.join(filter(None, map(str.strip, x.split(\"'\")))) if isinstance(x, str) else x)\n",
        "modelo_df['genres'] = genres_variable\n",
        "print(modelo_df['genres'])"
      ],
      "metadata": {
        "colab": {
          "base_uri": "https://localhost:8080/"
        },
        "id": "CyCf8TpoZKEr",
        "outputId": "e1961233-c358-46f8-d4b4-ecb3502c5ec3"
      },
      "execution_count": 5,
      "outputs": [
        {
          "output_type": "stream",
          "name": "stdout",
          "text": [
            "0              Action, Casual, Indie, Simulation, Strategy\n",
            "1                       Free to Play, Indie, RPG, Strategy\n",
            "2          Casual, Free to Play, Indie, Simulation, Sports\n",
            "3                                Action, Adventure, Casual\n",
            "4                            Action, Indie, Casual, Sports\n",
            "                               ...                        \n",
            "31989                  Casual, Indie, Simulation, Strategy\n",
            "31990                              Casual, Indie, Strategy\n",
            "31991                            Indie, Racing, Simulation\n",
            "31992                                        Casual, Indie\n",
            "31993    Early Access, Adventure, Indie, Action, Simula...\n",
            "Name: genres, Length: 31994, dtype: object\n"
          ]
        }
      ]
    },
    {
      "cell_type": "code",
      "source": [],
      "metadata": {
        "id": "8y2CikoQZLYy"
      },
      "execution_count": null,
      "outputs": []
    },
    {
      "cell_type": "code",
      "source": [
        "modelo_df['genres'] = modelo_df['genres'].replace('Design &amp; Illustration', 'Design & Illustration')\n",
        "modelo_df['genres'] = modelo_df['genres'].replace('Animation &amp; Modeling', 'Animation & Modeling')"
      ],
      "metadata": {
        "id": "3kcjc-3VZNUK"
      },
      "execution_count": 6,
      "outputs": []
    },
    {
      "cell_type": "code",
      "source": [
        "print(modelo_df['genres'].unique())"
      ],
      "metadata": {
        "colab": {
          "base_uri": "https://localhost:8080/"
        },
        "id": "Mpx_vp7gZPFa",
        "outputId": "59356948-d6e6-465b-863c-77c1af563b53"
      },
      "execution_count": 7,
      "outputs": [
        {
          "output_type": "stream",
          "name": "stdout",
          "text": [
            "['Action, Casual, Indie, Simulation, Strategy'\n",
            " 'Free to Play, Indie, RPG, Strategy'\n",
            " 'Casual, Free to Play, Indie, Simulation, Sports' ...\n",
            " 'Action, Massively Multiplayer, Strategy'\n",
            " 'Video Production, Utilities, Web Publishing'\n",
            " 'Early Access, Adventure, Indie, Action, Simulation']\n"
          ]
        }
      ]
    },
    {
      "cell_type": "code",
      "source": [
        "# cv es una instancia de la clase CountVectorizer de scikit-learn, utilizada para convertir documentos de texto en una matriz de recuentos de términos, donde cada fila representa un documento y cada columna una palabra única.\n",
        "cv = CountVectorizer()"
      ],
      "metadata": {
        "id": "QC-Rr7-bZRIa"
      },
      "execution_count": 8,
      "outputs": []
    },
    {
      "cell_type": "code",
      "source": [
        "# Ajustar CountVectorizer a la columna 'genres' y transformar los datos\n",
        "# .toarray(): Convertir la representación dispersa de la matriz de recuentos a una matriz densa.\n",
        "# .shape: Obtener la forma de la matriz resultante (número de filas y columnas).\n",
        "cv.fit_transform(modelo_df['genres']).toarray().shape"
      ],
      "metadata": {
        "colab": {
          "base_uri": "https://localhost:8080/"
        },
        "id": "yW24aYNHZU2i",
        "outputId": "585d4755-921a-44c3-ff79-82dd2cd3127a"
      },
      "execution_count": 9,
      "outputs": [
        {
          "output_type": "execute_result",
          "data": {
            "text/plain": [
              "(31994, 33)"
            ]
          },
          "metadata": {},
          "execution_count": 9
        }
      ]
    },
    {
      "cell_type": "code",
      "source": [
        "# Se generan los vectores para comparar\n",
        "vectores = cv.fit_transform(modelo_df['genres']).toarray()"
      ],
      "metadata": {
        "id": "Kjkq56StZZpa"
      },
      "execution_count": 10,
      "outputs": []
    },
    {
      "cell_type": "code",
      "source": [
        "vectores"
      ],
      "metadata": {
        "colab": {
          "base_uri": "https://localhost:8080/"
        },
        "id": "VELfRWg-ZceT",
        "outputId": "b7172391-f9bd-41cb-8401-49226cc10ed1"
      },
      "execution_count": 11,
      "outputs": [
        {
          "output_type": "execute_result",
          "data": {
            "text/plain": [
              "array([[0, 0, 1, ..., 0, 0, 0],\n",
              "       [0, 0, 0, ..., 0, 0, 0],\n",
              "       [0, 0, 0, ..., 0, 0, 0],\n",
              "       ...,\n",
              "       [0, 0, 0, ..., 0, 0, 0],\n",
              "       [0, 0, 0, ..., 0, 0, 0],\n",
              "       [1, 0, 1, ..., 0, 0, 0]])"
            ]
          },
          "metadata": {},
          "execution_count": 11
        }
      ]
    },
    {
      "cell_type": "code",
      "source": [
        "similitud = cosine_similarity(vectores)"
      ],
      "metadata": {
        "id": "VWj__b_wZgIK"
      },
      "execution_count": 12,
      "outputs": []
    },
    {
      "cell_type": "code",
      "source": [
        "similitud[0]"
      ],
      "metadata": {
        "colab": {
          "base_uri": "https://localhost:8080/"
        },
        "id": "qS4GMPbrZmeD",
        "outputId": "401c2367-3592-4ee7-8923-3f4852df7e40"
      },
      "execution_count": 13,
      "outputs": [
        {
          "output_type": "execute_result",
          "data": {
            "text/plain": [
              "array([1.        , 0.36514837, 0.50709255, ..., 0.51639778, 0.63245553,\n",
              "       0.54772256])"
            ]
          },
          "metadata": {},
          "execution_count": 13
        }
      ]
    },
    {
      "cell_type": "code",
      "source": [
        "# Ordenamos la similitud entre más similar a menos similar tomando 5 valores\n",
        "sorted(list(enumerate(similitud[0])), reverse=True, key=lambda x:x[1])[1:6]"
      ],
      "metadata": {
        "colab": {
          "base_uri": "https://localhost:8080/"
        },
        "id": "Fr2UB8E3Zq6S",
        "outputId": "58f88f5d-238e-4028-b571-8b7d7089e1d6"
      },
      "execution_count": 14,
      "outputs": [
        {
          "output_type": "execute_result",
          "data": {
            "text/plain": [
              "[(3336, 0.9999999999999999),\n",
              " (3553, 0.9999999999999999),\n",
              " (5340, 0.9999999999999999),\n",
              " (5690, 0.9999999999999999),\n",
              " (6903, 0.9999999999999999)]"
            ]
          },
          "metadata": {},
          "execution_count": 14
        }
      ]
    },
    {
      "cell_type": "code",
      "source": [
        "def recomendacion(id_juego):\n",
        "    # Obtenemos el índice del juego con el ID dado\n",
        "    indice_juego = modelo_df[modelo_df[\"item_id\"] == id_juego].index[0]\n",
        "\n",
        "    # Obtenemos las distancias de similitud para el juego dado\n",
        "    distances = similitud[indice_juego]\n",
        "\n",
        "    # Ordenamos las distancias en orden descendente y obtener las 5 recomendaciones principales (excluyendo el juego dado)\n",
        "    lista_juegos = sorted(list(enumerate(distances)), reverse=True, key=lambda x: x[1])[1:6]\n",
        "\n",
        "    # Obtenemos los nombres de los juegos recomendados\n",
        "    recommended_titles = [modelo_df.iloc[i[0]]['tags'] for i in lista_juegos]\n",
        "\n",
        "    return recommended_titles"
      ],
      "metadata": {
        "id": "adtj7SzmZuIr"
      },
      "execution_count": 15,
      "outputs": []
    },
    {
      "cell_type": "code",
      "source": [
        "# Se aplica la función al dataframe para obtener una nueva columna con las recomendaciones ya que es más facil\n",
        "# de cargar y leer para la funcion\n",
        "modelo_df['recomendaciones_top_5'] = modelo_df['item_id'].apply(recomendacion)"
      ],
      "metadata": {
        "id": "tRzxLgvYZ1pi"
      },
      "execution_count": 18,
      "outputs": []
    },
    {
      "cell_type": "code",
      "source": [
        "modelo_df.info()"
      ],
      "metadata": {
        "colab": {
          "base_uri": "https://localhost:8080/"
        },
        "id": "kFVogK_hdJY0",
        "outputId": "bcb89238-dc8c-4020-e70b-cb4e0b7bbbad"
      },
      "execution_count": 19,
      "outputs": [
        {
          "output_type": "stream",
          "name": "stdout",
          "text": [
            "<class 'pandas.core.frame.DataFrame'>\n",
            "RangeIndex: 31994 entries, 0 to 31993\n",
            "Data columns (total 4 columns):\n",
            " #   Column                 Non-Null Count  Dtype \n",
            "---  ------                 --------------  ----- \n",
            " 0   genres                 31994 non-null  object\n",
            " 1   item_id                31994 non-null  int32 \n",
            " 2   tags                   31994 non-null  object\n",
            " 3   recomendaciones_top_5  31994 non-null  object\n",
            "dtypes: int32(1), object(3)\n",
            "memory usage: 875.0+ KB\n"
          ]
        }
      ]
    },
    {
      "cell_type": "code",
      "source": [
        "modelo_df.drop(columns=['tags','genres'], inplace=True)"
      ],
      "metadata": {
        "id": "tHAxweEcdQVV"
      },
      "execution_count": 20,
      "outputs": []
    },
    {
      "cell_type": "code",
      "source": [
        "modelo_df.info()"
      ],
      "metadata": {
        "colab": {
          "base_uri": "https://localhost:8080/"
        },
        "id": "G12RAglddVXf",
        "outputId": "84066b09-4bd0-4ffb-bfbf-ba8ccb7c0452"
      },
      "execution_count": 21,
      "outputs": [
        {
          "output_type": "stream",
          "name": "stdout",
          "text": [
            "<class 'pandas.core.frame.DataFrame'>\n",
            "RangeIndex: 31994 entries, 0 to 31993\n",
            "Data columns (total 2 columns):\n",
            " #   Column                 Non-Null Count  Dtype \n",
            "---  ------                 --------------  ----- \n",
            " 0   item_id                31994 non-null  int32 \n",
            " 1   recomendaciones_top_5  31994 non-null  object\n",
            "dtypes: int32(1), object(1)\n",
            "memory usage: 375.1+ KB\n"
          ]
        }
      ]
    },
    {
      "cell_type": "code",
      "source": [
        "modelo_df.to_csv('consulta6.csv', index=False)"
      ],
      "metadata": {
        "id": "KzNbK4l-dbIN"
      },
      "execution_count": 22,
      "outputs": []
    }
  ]
}